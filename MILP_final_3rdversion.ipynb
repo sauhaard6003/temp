{
 "cells": [
  {
   "attachments": {},
   "cell_type": "markdown",
   "metadata": {},
   "source": [
    "importing all necessary libraries"
   ]
  },
  {
   "cell_type": "code",
   "execution_count": 174,
   "metadata": {},
   "outputs": [],
   "source": [
    "import pandas as pd\n",
    "import numpy as np\n",
    "import pyomo.environ as pyo\n",
    "from pyomo.environ import *\n",
    "from pyomo.opt import SolverFactory\n",
    "import matplotlib.dates as mdates\n",
    "import random\n",
    "import datetime"
   ]
  },
  {
   "cell_type": "code",
   "execution_count": 175,
   "metadata": {},
   "outputs": [],
   "source": [
    "class datagenerator:\n",
    "    def __init__(self,num_transport,num_warehouses,num_customer_sites,num_routes,incompatible,days,capacity,time_transport,freight,quantity,cost,max_day,max_weight,outflow_warehouse,inflow_customersite,p):\n",
    "        self.model=ConcreteModel()\n",
    "        self.model.num_transport=num_transport\n",
    "        self.model.num_warehouses=num_warehouses\n",
    "        self.model.num_customer_sites=num_customer_sites\n",
    "        self.model.num_routes=num_routes\n",
    "        self.model.days=days\n",
    "        self.model.capacity=capacity\n",
    "        self.model.time_transport=time_transport\n",
    "        self.model.incompatible=incompatible\n",
    "        self.model.freight=freight\n",
    "        self.model.quantity=quantity\n",
    "        self.model.cost=cost\n",
    "        self.model.max_day=max_day\n",
    "        self.model.max_weight=max_weight\n",
    "        self.model.p=p\n",
    "        self.model.outflow_warehouse=outflow_warehouse\n",
    "        self.model.inflow_customersite=inflow_customersite\n",
    "    def make_sites_index(self):\n",
    "        customer_sites=[]\n",
    "        for i in range(self.model.num_customer_sites):\n",
    "            customer_sites.append(i)\n",
    "        self.model.customer_sites=customer_sites\n",
    "        warehouse_sites=[]\n",
    "        for i in range(self.model.num_warehouses):\n",
    "            warehouse_sites.append(i)\n",
    "        self.model.warehouse_sites=warehouse_sites\n",
    "    def make_transport_index(self):\n",
    "        transport=[]\n",
    "        for i in range(self.model.num_transport):\n",
    "            transport.append(i)\n",
    "        self.model.transport=transport\n",
    "    def compatible(self):\n",
    "        compatibility=[]\n",
    "        for i in self.model.routes:\n",
    "            x={}\n",
    "            for j in self.model.transport:\n",
    "                x[j]=1\n",
    "            for j in self.model.incompatible[i]:\n",
    "                x[j]=0\n",
    "            compatibility.append(x)\n",
    "        self.model.compatibility=compatibility\n",
    "    def routes_indexing(self):\n",
    "        self.model.routes=[]\n",
    "        for i in range(self.model.num_routes):\n",
    "            self.model.routes.append(i)\n",
    "    def possible_startdays(self):\n",
    "        startdays=[]\n",
    "        for i in range(self.model.max_day+1):\n",
    "            startdays.append(i)\n",
    "        self.model.startdays=startdays\n",
    "    def possible_weights(self):\n",
    "        weights=[]\n",
    "        for i in range(self.model.max_weight+1):\n",
    "            weights.append(i)\n",
    "        self.model.weights=weights\n",
    "    def real_quantity(self):\n",
    "        numbers=[]\n",
    "        for i in range(max(self.model.quantity)):\n",
    "            numbers.append(i)\n",
    "        self.model.numbers = numbers\n",
    "    def supply_and_demand(self,supply,demand):\n",
    "        self.model.demand=demand\n",
    "        self.model.supply=supply\n",
    "               "
   ]
  },
  {
   "cell_type": "code",
   "execution_count": 176,
   "metadata": {},
   "outputs": [],
   "source": [
    "def generate_poisson_numbers(temp_time_transport,epsilon,lambda_value):\n",
    "    length = 0\n",
    "    samples = []\n",
    "    while (length < len(temp_time_transport)):\n",
    "        sample = np.random.poisson(lambda_value)\n",
    "        if (temp_time_transport[length]*(1-epsilon) <= sample <= temp_time_transport[length]*(1+epsilon)):\n",
    "            samples.append(sample)\n",
    "            length+=1\n",
    "    return samples"
   ]
  },
  {
   "attachments": {},
   "cell_type": "markdown",
   "metadata": {},
   "source": [
    "test case"
   ]
  },
  {
   "cell_type": "code",
   "execution_count": 177,
   "metadata": {},
   "outputs": [],
   "source": [
    "num_transport=5\n",
    "num_warehouses=2\n",
    "num_customer_sites=2\n",
    "num_routes=num_warehouses*num_customer_sites\n",
    "max_day=30\n",
    "\n",
    "# incompatible=[]\n",
    "# for i in range(num_routes):\n",
    "#     j=np.random.randint(0,num_transport-1)\n",
    "#     temp=random.sample(range(num_transport),j)\n",
    "#     incompatible.append(temp)\n",
    "incompatible=[[1],[0],[],[0]]\n",
    "# days=[]\n",
    "# for i in range(num_routes):\n",
    "#     j=np.random.randint(0,5)\n",
    "#     k=np.random.randint(max_day-5,max_day+1)\n",
    "#     days.append([j,k])\n",
    "days=[[3,5],[2,4],[4,6],[1,3]]\n",
    "routes_idx = [\"A-D\",\"A-E\",\"B-E\",\"B-D\"]\n",
    "means_transport = [\"Truck (20ft)\", \"Truck (40ft)\", \"Rail\", \"Ship\", \"Aeroplane\"]\n",
    "time_transport=[1,1,2,5,10]\n",
    "capacity=[10,15,20,50,100]\n",
    "# freight=[]\n",
    "# for i in range(num_routes):\n",
    "#     j=np.random.randint(1,max(capacity)/2)\n",
    "#     freight.append(j)\n",
    "freight=[5,12,8,15]\n",
    "total_sum=sum(freight)\n",
    "cost=[50,50,40,30,60]\n",
    "quantity=[1,1,4,4,4]\n",
    "max_weight=100\n",
    "p = 0.5\n",
    "M = 10000000\n",
    "outflow_warehouse=[]\n",
    "for i in range(num_warehouses):\n",
    "    temp={}\n",
    "    for j in range(num_customer_sites):\n",
    "        temp[num_customer_sites*i+j]=1\n",
    "    outflow_warehouse.append(temp)\n",
    "inflow_customersite=[]\n",
    "for i in range(num_customer_sites):\n",
    "    temp=[]\n",
    "    for j in range(num_warehouses):\n",
    "        temp.append(i+num_customer_sites*j)\n",
    "    inflow_customersite.append(temp) \n",
    "# supply=[]\n",
    "# for i in range(num_warehouses):\n",
    "#     supply.append(np.random.randint(((total_sum/num_warehouses)+1),2000))\n",
    "supply=[5,35]\n",
    "# demand=[]\n",
    "# for i in range(num_customer_sites):\n",
    "#     x=0\n",
    "#     for j in range(num_warehouses):\n",
    "#         x=x+freight[i+num_customer_sites*j]\n",
    "#     demand.append(x)\n",
    "demand=[10,20]"
   ]
  },
  {
   "cell_type": "code",
   "execution_count": 178,
   "metadata": {},
   "outputs": [],
   "source": [
    "ans_model=datagenerator(num_transport,num_warehouses,num_customer_sites,num_routes,incompatible,days,capacity,time_transport,freight,quantity,cost,max_day,max_weight,outflow_warehouse,inflow_customersite,p)"
   ]
  },
  {
   "cell_type": "code",
   "execution_count": 179,
   "metadata": {},
   "outputs": [],
   "source": [
    "ans_model.make_sites_index()\n",
    "ans_model.make_transport_index()\n",
    "ans_model.routes_indexing()\n",
    "ans_model.compatible()\n",
    "ans_model.possible_startdays()\n",
    "ans_model.possible_weights()\n",
    "ans_model.real_quantity()\n",
    "ans_model.supply_and_demand(supply,demand)"
   ]
  },
  {
   "cell_type": "code",
   "execution_count": 180,
   "metadata": {},
   "outputs": [],
   "source": [
    "ans_model.model.x = pyo.Var(ans_model.model.routes,ans_model.model.transport,ans_model.model.startdays,ans_model.model.numbers,within=Integers,bounds=(0,1))\n",
    "ans_model.model.y = pyo.Var(ans_model.model.warehouse_sites,ans_model.model.warehouse_sites,ans_model.model.transport,ans_model.model.startdays,ans_model.model.weights,ans_model.model.numbers,within=Integers,bounds=(0,1))\n",
    "ans_model.model.s = pyo.Var(ans_model.model.warehouse_sites,ans_model.model.startdays,within=Integers,bounds=(0,None))\n",
    "ans_model.model.d = pyo.Var(ans_model.model.customer_sites,ans_model.model.startdays,within=Integers)\n",
    "ans_model.model.last = pyo.Var(ans_model.model.routes,within=Integers,bounds=(0,None))\n",
    "ans_model.model.final = pyo.Var(within=Integers,bounds=(0,None))"
   ]
  },
  {
   "attachments": {},
   "cell_type": "markdown",
   "metadata": {},
   "source": [
    "model parameters"
   ]
  },
  {
   "cell_type": "code",
   "execution_count": 181,
   "metadata": {},
   "outputs": [],
   "source": [
    "def sum(t):\n",
    "    temp = 0\n",
    "    for i in t:\n",
    "        temp += i\n",
    "    return temp"
   ]
  },
  {
   "cell_type": "code",
   "execution_count": 182,
   "metadata": {},
   "outputs": [],
   "source": [
    "def prod(t):\n",
    "    temp = 0\n",
    "    for i in t:\n",
    "        temp *= i\n",
    "    return temp"
   ]
  },
  {
   "attachments": {},
   "cell_type": "markdown",
   "metadata": {},
   "source": [
    "constraints"
   ]
  },
  {
   "cell_type": "code",
   "execution_count": 183,
   "metadata": {},
   "outputs": [],
   "source": [
    "def rule1(model,i,j,k,n):\n",
    "    return model.last[i] * model.x[i,j,k,n] >= model.x[i,j,k,n] * (k+model.time_transport[j])"
   ]
  },
  {
   "cell_type": "markdown",
   "metadata": {},
   "source": [
    "This constraint is to show that the last time of delivery per route will be after all deliveries, and since we will minimize it, this constraint will give the correct value."
   ]
  },
  {
   "cell_type": "code",
   "execution_count": 184,
   "metadata": {},
   "outputs": [],
   "source": [
    "def rule2(model,i):\n",
    "    return model.last[i] >= model.days[i][0]"
   ]
  },
  {
   "cell_type": "markdown",
   "metadata": {},
   "source": [
    "This shows that the last delivery for every route has to be after the starting of the time window."
   ]
  },
  {
   "cell_type": "code",
   "execution_count": 185,
   "metadata": {},
   "outputs": [],
   "source": [
    "def rule3(model,i):\n",
    "    return model.last[i] <= model.days[i][1]"
   ]
  },
  {
   "cell_type": "markdown",
   "metadata": {},
   "source": [
    "This shows that the last delivery for every route has to be before the ending of the time window."
   ]
  },
  {
   "cell_type": "code",
   "execution_count": 186,
   "metadata": {},
   "outputs": [],
   "source": [
    "def rule4(model,i,j,k,n):\n",
    "    return model.x[i,j,k,n] * sum(model.x[i,tr,t,r] for tr in model.transport for t in range(k,min(max(model.startdays)+1,k+model.time_transport[tr]+1)) for r in model.numbers) <= 1"
   ]
  },
  {
   "cell_type": "markdown",
   "metadata": {},
   "source": [
    "While a particular number of a means of transport is transporting the freight, no other means of transport can interfere and start transporting."
   ]
  },
  {
   "cell_type": "code",
   "execution_count": 187,
   "metadata": {},
   "outputs": [],
   "source": [
    "def rule5(model,j,k,n):\n",
    "    return sum(model.x[i,j,k,n] * model.x[i,j,t,n] for i in model.routes for t in range(k,min(max(model.startdays)+1,k+model.time_transport[j]+1))) +  sum(model.y[i,m,j,k,l,n] * model.y[i,m,j,t,l,n] for i in model.warehouse_sites for m in model.warehouse_sites for t in range(k,min(max(model.startdays)+1,k+model.time_transport[j]+1)) for l in model.weights) <= 1"
   ]
  },
  {
   "cell_type": "markdown",
   "metadata": {},
   "source": [
    "While a particular number of means of transport is transporting somewhere, it cannot start transporting elsewhere unless the transit time has been done."
   ]
  },
  {
   "cell_type": "code",
   "execution_count": 188,
   "metadata": {},
   "outputs": [],
   "source": [
    "def rule6(model,i,j,k,n):\n",
    "    if (model.compatibility[i][j] == 0):\n",
    "        return model.x[i,j,k,n] == 0\n",
    "    else:\n",
    "        return Constraint.Skip"
   ]
  },
  {
   "cell_type": "markdown",
   "metadata": {},
   "source": [
    "An incompatible means of transport cannot be used."
   ]
  },
  {
   "cell_type": "code",
   "execution_count": 189,
   "metadata": {},
   "outputs": [],
   "source": [
    "def rule7(model,i,j,k,n):\n",
    "    return model.x[i,j,k,n] * model.capacity[j] >= model.x[i,j,k,n] * model.freight[i]"
   ]
  },
  {
   "cell_type": "markdown",
   "metadata": {},
   "source": [
    "The capacity of transport should exceed the freight to be transported through the route if it is to be used."
   ]
  },
  {
   "cell_type": "code",
   "execution_count": 190,
   "metadata": {},
   "outputs": [],
   "source": [
    "def rule8(model,i):\n",
    "    return model.final >= model.last[i]"
   ]
  },
  {
   "cell_type": "markdown",
   "metadata": {},
   "source": [
    "This is the last time of delivery overall."
   ]
  },
  {
   "cell_type": "code",
   "execution_count": 191,
   "metadata": {},
   "outputs": [],
   "source": [
    "def rule9(model,i,m,j,k,l,n):\n",
    "    if (l == 0):\n",
    "        return model.y[i,m,j,k,l,n] == 0\n",
    "    else:\n",
    "        return model.y[i,m,j,k,l,n] * l <= model.capacity[j] "
   ]
  },
  {
   "cell_type": "markdown",
   "metadata": {},
   "source": [
    "The weight being transported in between warehouses should be less than the capacity."
   ]
  },
  {
   "cell_type": "code",
   "execution_count": 192,
   "metadata": {},
   "outputs": [],
   "source": [
    "def rule10(model,st,sd):\n",
    "    if (sd == 0):\n",
    "        return model.s[st,sd] == model.supply[st]\n",
    "    else:\n",
    "        return model.s[st,sd-1] - sum(model.x[r,t,sd-1,n] * model.freight[r] for t in model.transport for r in model.outflow_warehouse[st].keys() for n in model.numbers) - sum(model.y[st,i,t,sd-1,w,n] * w for i in model.warehouse_sites for t in model.transport for w in model.weights for n in model.numbers) + sum(model.y[i,st,t,sd-1-model.time_transport[t],w,n] * w for i in model.warehouse_sites for t in model.transport for w in model.weights for n in model.numbers if sd >= 1 + model.time_transport[t]) == model.s[st,sd]"
   ]
  },
  {
   "cell_type": "markdown",
   "metadata": {},
   "source": [
    "This is supply constraint comparing the amount going in and out of the warehouse sites."
   ]
  },
  {
   "cell_type": "code",
   "execution_count": 193,
   "metadata": {},
   "outputs": [],
   "source": [
    "def rule11(model,des,sd):\n",
    "    if (sd == 0):\n",
    "        return model.d[des,sd] == model.demand[des]\n",
    "    else:\n",
    "        return model.d[des,sd-1] - sum(model.x[r,t,sd-1-model.time_transport[t],n] * model.freight[r] for r in model.inflow_customersite[des] for t in model.transport for n in model.numbers if (sd-1-model.time_transport[t]) >= 0) == model.d[des,sd]"
   ]
  },
  {
   "cell_type": "markdown",
   "metadata": {},
   "source": [
    "This is demand constraint comparing the amount going in and out of the customer_sites."
   ]
  },
  {
   "cell_type": "code",
   "execution_count": 194,
   "metadata": {},
   "outputs": [],
   "source": [
    "def rule12(model,i,m,j,k,l,n):\n",
    "    if (i == m):\n",
    "        return model.y[i,m,j,k,l,n] == 0\n",
    "    else:\n",
    "        return Constraint.Skip"
   ]
  },
  {
   "cell_type": "markdown",
   "metadata": {},
   "source": [
    "A freight cannot start and end at the same place."
   ]
  },
  {
   "cell_type": "code",
   "execution_count": 195,
   "metadata": {},
   "outputs": [],
   "source": [
    "def rule13(model,des,sd):\n",
    "    if (sd==max(model.startdays)):\n",
    "        return model.d[des,sd] <= 0\n",
    "    else:\n",
    "        return Constraint.Skip"
   ]
  },
  {
   "cell_type": "markdown",
   "metadata": {},
   "source": [
    "At end of all days, all demand should be sufficed."
   ]
  },
  {
   "cell_type": "code",
   "execution_count": 196,
   "metadata": {},
   "outputs": [],
   "source": [
    "def rule14(model,st,sd):\n",
    "    return model.s[st,sd] >= 0"
   ]
  },
  {
   "cell_type": "markdown",
   "metadata": {},
   "source": [
    "At all days, the supply at each warehouse site >= 0."
   ]
  },
  {
   "cell_type": "code",
   "execution_count": 197,
   "metadata": {},
   "outputs": [],
   "source": [
    "def rule15(model,i):\n",
    "    return sum(model.x[i,j,k,n] for j in model.transport for k in model.startdays for n in model.numbers) >= 1"
   ]
  },
  {
   "cell_type": "markdown",
   "metadata": {},
   "source": [
    "Each route has at least one transport operational."
   ]
  },
  {
   "cell_type": "code",
   "execution_count": 198,
   "metadata": {},
   "outputs": [],
   "source": [
    "def rule16(model,i,j,k,n):\n",
    "    if (n >= model.quantity[j]):\n",
    "        return model.x[i,j,k,n] == 0\n",
    "    else:\n",
    "        return Constraint.Skip"
   ]
  },
  {
   "cell_type": "markdown",
   "metadata": {},
   "source": [
    "The total number of transport being used cannot be more than the number of transport available for every means of transport."
   ]
  },
  {
   "attachments": {},
   "cell_type": "markdown",
   "metadata": {},
   "source": [
    "apply constraints"
   ]
  },
  {
   "cell_type": "code",
   "execution_count": 199,
   "metadata": {},
   "outputs": [],
   "source": [
    "ans_model.model.C1 = pyo.Constraint(ans_model.model.routes, ans_model.model.transport, ans_model.model.startdays, ans_model.model.numbers, rule = rule1)"
   ]
  },
  {
   "cell_type": "code",
   "execution_count": 200,
   "metadata": {},
   "outputs": [],
   "source": [
    "ans_model.model.C2 = pyo.Constraint(ans_model.model.routes, rule = rule2)"
   ]
  },
  {
   "cell_type": "code",
   "execution_count": 201,
   "metadata": {},
   "outputs": [],
   "source": [
    "ans_model.model.C3 = pyo.Constraint(ans_model.model.routes, rule = rule3)"
   ]
  },
  {
   "cell_type": "code",
   "execution_count": 202,
   "metadata": {},
   "outputs": [],
   "source": [
    "ans_model.model.C4 = pyo.Constraint(ans_model.model.routes, ans_model.model.transport, ans_model.model.startdays, ans_model.model.numbers, rule = rule4)"
   ]
  },
  {
   "cell_type": "code",
   "execution_count": 203,
   "metadata": {},
   "outputs": [],
   "source": [
    "ans_model.model.C5 = pyo.Constraint(ans_model.model.transport, ans_model.model.startdays, ans_model.model.numbers, rule = rule5)"
   ]
  },
  {
   "cell_type": "code",
   "execution_count": 204,
   "metadata": {},
   "outputs": [],
   "source": [
    "ans_model.model.C6 = pyo.Constraint(ans_model.model.routes, ans_model.model.transport, ans_model.model.startdays, ans_model.model.numbers, rule = rule6)"
   ]
  },
  {
   "cell_type": "code",
   "execution_count": 205,
   "metadata": {},
   "outputs": [],
   "source": [
    "ans_model.model.C7 = pyo.Constraint(ans_model.model.routes, ans_model.model.transport, ans_model.model.startdays, ans_model.model.numbers, rule = rule7)"
   ]
  },
  {
   "cell_type": "code",
   "execution_count": 206,
   "metadata": {},
   "outputs": [],
   "source": [
    "ans_model.model.C8 = pyo.Constraint(ans_model.model.routes, rule = rule8)"
   ]
  },
  {
   "cell_type": "code",
   "execution_count": 207,
   "metadata": {},
   "outputs": [],
   "source": [
    "ans_model.model.C9 = pyo.Constraint(ans_model.model.warehouse_sites, ans_model.model.warehouse_sites, ans_model.model.transport, ans_model.model.startdays, ans_model.model.weights, ans_model.model.numbers, rule = rule9)"
   ]
  },
  {
   "cell_type": "code",
   "execution_count": 208,
   "metadata": {},
   "outputs": [],
   "source": [
    "ans_model.model.C10 = pyo.Constraint(ans_model.model.warehouse_sites, ans_model.model.startdays, rule = rule10)"
   ]
  },
  {
   "cell_type": "code",
   "execution_count": 209,
   "metadata": {},
   "outputs": [],
   "source": [
    "ans_model.model.C11 = pyo.Constraint(ans_model.model.customer_sites, ans_model.model.startdays, rule = rule11)"
   ]
  },
  {
   "cell_type": "code",
   "execution_count": 210,
   "metadata": {},
   "outputs": [],
   "source": [
    "ans_model.model.C12 = pyo.Constraint(ans_model.model.warehouse_sites, ans_model.model.warehouse_sites, ans_model.model.transport, ans_model.model.startdays, ans_model.model.weights, ans_model.model.numbers, rule = rule12)"
   ]
  },
  {
   "cell_type": "code",
   "execution_count": 211,
   "metadata": {},
   "outputs": [],
   "source": [
    "ans_model.model.C13 = pyo.Constraint(ans_model.model.customer_sites, ans_model.model.startdays, rule = rule13)"
   ]
  },
  {
   "cell_type": "code",
   "execution_count": 212,
   "metadata": {},
   "outputs": [],
   "source": [
    "ans_model.model.C14 = pyo.Constraint(ans_model.model.warehouse_sites, ans_model.model.startdays, rule = rule14)"
   ]
  },
  {
   "cell_type": "code",
   "execution_count": 213,
   "metadata": {},
   "outputs": [],
   "source": [
    "ans_model.model.C15 = pyo.Constraint(ans_model.model.routes, rule = rule15)"
   ]
  },
  {
   "cell_type": "code",
   "execution_count": 214,
   "metadata": {},
   "outputs": [],
   "source": [
    "ans_model.model.C16 = pyo.Constraint(ans_model.model.routes, ans_model.model.transport, ans_model.model.startdays, ans_model.model.numbers, rule = rule16)"
   ]
  },
  {
   "attachments": {},
   "cell_type": "markdown",
   "metadata": {},
   "source": [
    "cost function"
   ]
  },
  {
   "cell_type": "code",
   "execution_count": 215,
   "metadata": {},
   "outputs": [],
   "source": [
    "def satisfy_demand(model):\n",
    "    cost = 0\n",
    "    for i in range(len(model.routes)):\n",
    "        for j in range(len(model.transport)):\n",
    "            for k in range(len(model.startdays)):\n",
    "                for l in range(len(model.numbers)):\n",
    "                    cost = cost + model.x[i,j,k,l] * model.freight[i] * model.cost[j]\n",
    "    for i in range(len(model.warehouse_sites)):\n",
    "        for m in range(len(model.warehouse_sites)):\n",
    "            for j in range(len(model.transport)):\n",
    "                for k in range(len(model.startdays)):\n",
    "                    for l in range(len(model.weights)):\n",
    "                        for n in range(len(model.numbers)):\n",
    "                            cost = cost + model.y[i,m,j,k,l,n] * l * model.cost[j]\n",
    "                    \n",
    "    return model.p * cost + (1-model.p) * model.final\n",
    "    "
   ]
  },
  {
   "attachments": {},
   "cell_type": "markdown",
   "metadata": {},
   "source": [
    "objective: minimize the cost function"
   ]
  },
  {
   "cell_type": "code",
   "execution_count": 216,
   "metadata": {},
   "outputs": [],
   "source": [
    "ans_model.model.obj=pyo.Objective(rule=satisfy_demand, sense=minimize)"
   ]
  },
  {
   "attachments": {},
   "cell_type": "markdown",
   "metadata": {},
   "source": [
    "solve using 'gurobi' solver"
   ]
  },
  {
   "cell_type": "code",
   "execution_count": 217,
   "metadata": {},
   "outputs": [],
   "source": [
    "opt = SolverFactory('gurobi')"
   ]
  },
  {
   "cell_type": "code",
   "execution_count": 218,
   "metadata": {},
   "outputs": [],
   "source": [
    "results = opt.solve(ans_model.model)"
   ]
  },
  {
   "attachments": {},
   "cell_type": "markdown",
   "metadata": {},
   "source": [
    "results"
   ]
  },
  {
   "cell_type": "code",
   "execution_count": 219,
   "metadata": {},
   "outputs": [
    {
     "name": "stdout",
     "output_type": "stream",
     "text": [
      "\n",
      "Problem: \n",
      "- Name: x253090\n",
      "  Lower bound: 977.5\n",
      "  Upper bound: 977.5\n",
      "  Number of objectives: 1\n",
      "  Number of constraints: 385101\n",
      "  Number of variables: 253090\n",
      "  Number of binary variables: 0\n",
      "  Number of integer variables: 253089\n",
      "  Number of continuous variables: 1\n",
      "  Number of nonzeros: 836093\n",
      "  Sense: minimize\n",
      "Solver: \n",
      "- Status: ok\n",
      "  Return code: 0\n",
      "  Message: Model was solved to optimality (subject to tolerances), and an optimal solution is available.\n",
      "  Termination condition: optimal\n",
      "  Termination message: Model was solved to optimality (subject to tolerances), and an optimal solution is available.\n",
      "  Wall time: 6.314000129699707\n",
      "  Error rc: 0\n",
      "  Time: 11.787899017333984\n",
      "Solution: \n",
      "- number of solutions: 0\n",
      "  number of solutions displayed: 0\n",
      "\n"
     ]
    }
   ],
   "source": [
    "print(results)"
   ]
  },
  {
   "attachments": {},
   "cell_type": "markdown",
   "metadata": {},
   "source": [
    "results"
   ]
  },
  {
   "cell_type": "code",
   "execution_count": 227,
   "metadata": {},
   "outputs": [
    {
     "name": "stdout",
     "output_type": "stream",
     "text": [
      "Ship \"1\" goes from A-D on day 0\n",
      "Rail \"3\" goes from A-E on day 2\n",
      "Ship \"2\" goes from B-E on day 0\n",
      "Rail \"1\" goes from B-D on day 0\n",
      "1 0 2 0 2 1\n",
      "1 0 2 0 10 3\n",
      "minimum cost of transportation is 1950.0\n",
      "corresponding minimum time taken is 5.0 days\n"
     ]
    }
   ],
   "source": [
    "cost = 0\n",
    "for i in range(len(ans_model.model.routes)):\n",
    "    for j in range(len(ans_model.model.transport)):\n",
    "        for k in range(len(ans_model.model.startdays)):\n",
    "            for l in range(len(ans_model.model.numbers)):\n",
    "                cost = cost + pyo.value(ans_model.model.x[i,j,k,l]) * pyo.value(ans_model.model.freight[i]) * pyo.value(ans_model.model.cost[j])\n",
    "                if (pyo.value(ans_model.model.x[i,j,k,l])):\n",
    "                    print(f'{means_transport[j]} \"{l+1}\" goes from {routes_idx[i]} on day {k}')\n",
    "for i in range(len(ans_model.model.warehouse_sites)):\n",
    "    for m in range(len(ans_model.model.warehouse_sites)):\n",
    "        for j in range(len(ans_model.model.transport)):\n",
    "            for k in range(len(ans_model.model.startdays)):\n",
    "                for l in range(len(ans_model.model.weights)):\n",
    "                    for n in range(len(ans_model.model.numbers)):\n",
    "                        cost = cost + pyo.value(ans_model.model.y[i,m,j,k,l,n]) * l * pyo.value(ans_model.model.cost[j])\n",
    "                        if (pyo.value(ans_model.model.y[i,m,j,k,l,n])):\n",
    "                            print(i,m,j,k,l,n)\n",
    "                \n",
    "# final = ans_model.model.p * cost + (1-ans_model.model.p) * pyo.value(ans_model.model.final)\n",
    "\n",
    "print(f\"minimum cost of transportation is {cost}\")\n",
    "print(f\"corresponding minimum time taken is {pyo.value(ans_model.model.final)} days\")\n",
    "# print(f\"minimum total value of transportation is {final}\")"
   ]
  }
 ],
 "metadata": {
  "kernelspec": {
   "display_name": "Python 3",
   "language": "python",
   "name": "python3"
  },
  "language_info": {
   "codemirror_mode": {
    "name": "ipython",
    "version": 3
   },
   "file_extension": ".py",
   "mimetype": "text/x-python",
   "name": "python",
   "nbconvert_exporter": "python",
   "pygments_lexer": "ipython3",
   "version": "3.9.6"
  },
  "orig_nbformat": 4
 },
 "nbformat": 4,
 "nbformat_minor": 2
}
